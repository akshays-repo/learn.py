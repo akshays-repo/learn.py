{
 "cells": [
  {
   "cell_type": "code",
   "execution_count": 11,
   "metadata": {},
   "outputs": [
    {
     "name": "stdout",
     "output_type": "stream",
     "text": [
      "float32\n"
     ]
    }
   ],
   "source": [
    "import numpy as np \n",
    "arr = np.array([1,2,3,4,5,6,7,8])\n",
    "x= [False,True,False,True,False,True,False,True]\n",
    "even = arr[x]\n",
    "print(even)\n",
    "\n",
    "even_cont = []\n",
    "for i in arr:\n",
    "    if i%2 == 0:\n",
    "        even_cont.append(True)\n",
    "    else:\n",
    "        even_cont.append(False)\n",
    "print(even_cont)\n",
    "\n",
    "even1 = arr[even_cont]\n",
    "print(even1)"
   ]
  },
  {
   "cell_type": "code",
   "execution_count": 18,
   "metadata": {},
   "outputs": [
    {
     "name": "stdout",
     "output_type": "stream",
     "text": [
      "[2 4 6 8]\n",
      "[False, True, False, True, False, True, False, True]\n",
      "[2 4 6 8]\n"
     ]
    }
   ],
   "source": [
    "arr = np.array([1,2,3,4,5,6,7,8])\n",
    "x= [False,True,False,True,False,True,False,True]\n",
    "even = arr[x]\n",
    "print(even)\n",
    "even_cont = []\n",
    "for i in arr:\n",
    "    if i%2 == 0:\n",
    "        even_cont.append(True)\n",
    "    else:\n",
    "        even_cont.append(False)\n",
    "print(even_cont)\n",
    "\n",
    "even1 = arr[even_cont]\n",
    "print(even1)"
   ]
  },
  {
   "cell_type": "code",
   "execution_count": null,
   "metadata": {},
   "outputs": [],
   "source": []
  }
 ],
 "metadata": {
  "kernelspec": {
   "display_name": "Python 3",
   "language": "python",
   "name": "python3"
  },
  "language_info": {
   "codemirror_mode": {
    "name": "ipython",
    "version": 3
   },
   "file_extension": ".py",
   "mimetype": "text/x-python",
   "name": "python",
   "nbconvert_exporter": "python",
   "pygments_lexer": "ipython3",
   "version": "3.8.3"
  }
 },
 "nbformat": 4,
 "nbformat_minor": 4
}
